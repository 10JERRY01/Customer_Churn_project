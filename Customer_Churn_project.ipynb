{
 "cells": [
  {
   "cell_type": "markdown",
   "id": "18a8a953",
   "metadata": {},
   "source": [
    "# Loading and Exploring Data"
   ]
  },
  {
   "cell_type": "code",
   "execution_count": 2,
   "id": "b3d3f670",
   "metadata": {},
   "outputs": [
    {
     "name": "stdout",
     "output_type": "stream",
     "text": [
      "Dataset Info:\n",
      "<class 'pandas.core.frame.DataFrame'>\n",
      "RangeIndex: 440833 entries, 0 to 440832\n",
      "Data columns (total 12 columns):\n",
      " #   Column             Non-Null Count   Dtype  \n",
      "---  ------             --------------   -----  \n",
      " 0   CustomerID         440832 non-null  float64\n",
      " 1   Age                440832 non-null  float64\n",
      " 2   Gender             440832 non-null  object \n",
      " 3   Tenure             440832 non-null  float64\n",
      " 4   Usage Frequency    440832 non-null  float64\n",
      " 5   Support Calls      440832 non-null  float64\n",
      " 6   Payment Delay      440832 non-null  float64\n",
      " 7   Subscription Type  440832 non-null  object \n",
      " 8   Contract Length    440832 non-null  object \n",
      " 9   Total Spend        440832 non-null  float64\n",
      " 10  Last Interaction   440832 non-null  float64\n",
      " 11  Churn              440832 non-null  float64\n",
      "dtypes: float64(9), object(3)\n",
      "memory usage: 40.4+ MB\n",
      "None\n",
      "\n",
      "First 5 Rows:\n",
      "   CustomerID   Age  Gender  Tenure  Usage Frequency  Support Calls  \\\n",
      "0         2.0  30.0  Female    39.0             14.0            5.0   \n",
      "1         3.0  65.0  Female    49.0              1.0           10.0   \n",
      "2         4.0  55.0  Female    14.0              4.0            6.0   \n",
      "3         5.0  58.0    Male    38.0             21.0            7.0   \n",
      "4         6.0  23.0    Male    32.0             20.0            5.0   \n",
      "\n",
      "   Payment Delay Subscription Type Contract Length  Total Spend  \\\n",
      "0           18.0          Standard          Annual        932.0   \n",
      "1            8.0             Basic         Monthly        557.0   \n",
      "2           18.0             Basic       Quarterly        185.0   \n",
      "3            7.0          Standard         Monthly        396.0   \n",
      "4            8.0             Basic         Monthly        617.0   \n",
      "\n",
      "   Last Interaction  Churn  \n",
      "0              17.0    1.0  \n",
      "1               6.0    1.0  \n",
      "2               3.0    1.0  \n",
      "3              29.0    1.0  \n",
      "4              20.0    1.0  \n"
     ]
    }
   ],
   "source": [
    "import pandas as pd\n",
    "\n",
    "# Load the dataset\n",
    "file_path = 'customer_churn_dataset-training-master.csv'  # Replace with your file path\n",
    "df = pd.read_csv(file_path)\n",
    "\n",
    "# Explore the dataset\n",
    "print(\"Dataset Info:\")\n",
    "print(df.info())\n",
    "\n",
    "print(\"\\nFirst 5 Rows:\")\n",
    "print(df.head())\n"
   ]
  },
  {
   "cell_type": "markdown",
   "id": "301d5da7",
   "metadata": {},
   "source": [
    "# Data Cleaning"
   ]
  },
  {
   "cell_type": "code",
   "execution_count": 3,
   "id": "f6a6470b",
   "metadata": {},
   "outputs": [
    {
     "name": "stdout",
     "output_type": "stream",
     "text": [
      "Missing Values:\n",
      "CustomerID           1\n",
      "Age                  1\n",
      "Gender               1\n",
      "Tenure               1\n",
      "Usage Frequency      1\n",
      "Support Calls        1\n",
      "Payment Delay        1\n",
      "Subscription Type    1\n",
      "Contract Length      1\n",
      "Total Spend          1\n",
      "Last Interaction     1\n",
      "Churn                1\n",
      "dtype: int64\n"
     ]
    }
   ],
   "source": [
    "# Check for missing values\n",
    "print(\"Missing Values:\")\n",
    "print(df.isnull().sum())\n",
    "\n",
    "# Drop rows with missing critical values\n",
    "df.dropna(subset=['CustomerID', 'Last Interaction', 'Total Spend'], inplace=True)\n",
    "\n",
    "# Convert necessary columns to correct data types\n",
    "df['Payment Delay'] = pd.to_numeric(df['Payment Delay'], errors='coerce')\n",
    "df['Last Interaction'] = pd.to_datetime(df['Last Interaction'], errors='coerce')\n",
    "\n",
    "# Drop rows where conversions failed\n",
    "df.dropna(inplace=True)\n"
   ]
  },
  {
   "cell_type": "markdown",
   "id": "e9a5adf4",
   "metadata": {},
   "source": [
    "# Feature Engineering"
   ]
  },
  {
   "cell_type": "code",
   "execution_count": 5,
   "id": "1e13b13b",
   "metadata": {},
   "outputs": [
    {
     "name": "stdout",
     "output_type": "stream",
     "text": [
      "Churn Rate: 56.710719729965156\n",
      "Average Spend: 631.6162227787628\n",
      "Revenue Loss: 135320840.60000002\n",
      "\n",
      "Churn by Segment:\n",
      "Churn                    0.0        1.0\n",
      "Subscription Type                      \n",
      "Basic              41.821767  58.178233\n",
      "Premium            44.058300  55.941700\n",
      "Standard           43.930047  56.069953\n"
     ]
    }
   ],
   "source": [
    "from datetime import datetime\n",
    "\n",
    "# Calculate 'Days Since Last Interaction'\n",
    "current_date = datetime.now()\n",
    "df['Days Since Last Interaction'] = (current_date - df['Last Interaction']).dt.days\n",
    "\n",
    "# Calculate churn rate\n",
    "churn_rate = df['Churn'].value_counts(normalize=True)[1.0] * 100\n",
    "\n",
    "# Calculate average spend per customer\n",
    "average_spend = df['Total Spend'].mean()\n",
    "\n",
    "# Revenue loss from churned customers\n",
    "revenue_loss = df[df['Churn'] == 1.0]['Total Spend'].sum()\n",
    "\n",
    "# Segment-based churn\n",
    "churn_by_segment = df.groupby('Subscription Type')['Churn'].value_counts(normalize=True).unstack() * 100\n",
    "\n",
    "print(\"Churn Rate:\", churn_rate)\n",
    "print(\"Average Spend:\", average_spend)\n",
    "print(\"Revenue Loss:\", revenue_loss)\n",
    "print(\"\\nChurn by Segment:\")\n",
    "print(churn_by_segment)\n"
   ]
  },
  {
   "cell_type": "markdown",
   "id": "33dfa0f2",
   "metadata": {},
   "source": [
    "# Save Cleaned Data to a Database"
   ]
  },
  {
   "cell_type": "code",
   "execution_count": 6,
   "id": "ade90b7e",
   "metadata": {},
   "outputs": [
    {
     "name": "stdout",
     "output_type": "stream",
     "text": [
      "Data successfully saved to database.\n"
     ]
    }
   ],
   "source": [
    "from sqlalchemy import create_engine\n",
    "\n",
    "# Create SQLite database engine\n",
    "engine = create_engine('sqlite:///customer_churn.db')\n",
    "\n",
    "# Save cleaned data to the database\n",
    "df.to_sql('cleaned_customer_data', engine, if_exists='replace', index=False)\n",
    "\n",
    "print(\"Data successfully saved to database.\")\n"
   ]
  },
  {
   "cell_type": "markdown",
   "id": "a148414a",
   "metadata": {},
   "source": [
    "# Visualization in Python"
   ]
  },
  {
   "cell_type": "markdown",
   "id": "e55981c6",
   "metadata": {},
   "source": [
    "## Churn Rate Visualization"
   ]
  },
  {
   "cell_type": "code",
   "execution_count": 7,
   "id": "da5bc7f7",
   "metadata": {},
   "outputs": [
    {
     "data": {
      "image/png": "[encoded data removed]",
      "text/plain": [
       "<Figure size 640x480 with 1 Axes>"
      ]
     },
     "metadata": {},
     "output_type": "display_data"
    }
   ],
   "source": [
    "import matplotlib.pyplot as plt\n",
    "\n",
    "# Churn Rate Pie Chart\n",
    "churn_counts = df['Churn'].value_counts()\n",
    "labels = churn_counts.index\n",
    "sizes = churn_counts.values\n",
    "colors = ['lightblue', 'lightcoral']\n",
    "\n",
    "plt.pie(sizes, labels=labels, autopct='%1.1f%%', startangle=90, colors=colors)\n",
    "plt.title('Customer Churn Rate')\n",
    "plt.show()\n"
   ]
  },
  {
   "cell_type": "markdown",
   "id": "cfc5f060",
   "metadata": {},
   "source": [
    "## Churn by Segment (Bar Chart)"
   ]
  },
  {
   "cell_type": "code",
   "execution_count": 8,
   "id": "3055810e",
   "metadata": {},
   "outputs": [
    {
     "data": {
      "image/png": "[encoded data removed]",
      "text/plain": [
       "<Figure size 1000x600 with 1 Axes>"
      ]
     },
     "metadata": {},
     "output_type": "display_data"
    }
   ],
   "source": [
    "# Bar Chart for Churn by Subscription Type\n",
    "import seaborn as sns\n",
    "\n",
    "churn_segment_data = df.groupby('Subscription Type')['Churn'].value_counts(normalize=True).unstack() * 100\n",
    "churn_segment_data.plot(kind='bar', stacked=True, figsize=(10, 6), color=['lightcoral', 'lightblue'])\n",
    "\n",
    "plt.title('Churn Percentage by Subscription Type')\n",
    "plt.ylabel('Percentage')\n",
    "plt.xlabel('Subscription Type')\n",
    "plt.legend(title='Churn', labels=['No', 'Yes'])\n",
    "plt.show()\n"
   ]
  },
  {
   "cell_type": "markdown",
   "id": "1a104d6d",
   "metadata": {},
   "source": [
    "# Export to CSV for Dashboard Tools"
   ]
  },
  {
   "cell_type": "code",
   "execution_count": 9,
   "id": "2318f5ae",
   "metadata": {},
   "outputs": [
    {
     "name": "stdout",
     "output_type": "stream",
     "text": [
      "Cleaned data exported to cleaned_customer_data.csv\n"
     ]
    }
   ],
   "source": [
    "# Export to CSV\n",
    "output_path = 'cleaned_customer_data.csv'\n",
    "df.to_csv(output_path, index=False)\n",
    "\n",
    "print(f\"Cleaned data exported to {output_path}\")\n"
   ]
  },
  {
   "cell_type": "markdown",
   "id": "a10039a1",
   "metadata": {},
   "source": [
    "# Churn Prediction (Using Logistic Regression)"
   ]
  },
  {
   "cell_type": "markdown",
   "id": "a3146147",
   "metadata": {},
   "source": [
    "## Prepare Data for Modeling"
   ]
  },
  {
   "cell_type": "code",
   "execution_count": 10,
   "id": "214aa6d7",
   "metadata": {},
   "outputs": [],
   "source": [
    "from sklearn.model_selection import train_test_split\n",
    "from sklearn.linear_model import LogisticRegression\n",
    "from sklearn.preprocessing import LabelEncoder\n",
    "\n",
    "# Encode categorical variables\n",
    "encoder = LabelEncoder()\n",
    "df['Gender'] = encoder.fit_transform(df['Gender'])\n",
    "df['Subscription Type'] = encoder.fit_transform(df['Subscription Type'])\n",
    "df['Contract Length'] = encoder.fit_transform(df['Contract Length'])\n",
    "df['Churn'] = encoder.fit_transform(df['Churn'])\n",
    "\n",
    "# Select features and target\n",
    "features = ['Age', 'Gender', 'Tenure', 'Usage Frequency', 'Support Calls', \n",
    "            'Payment Delay', 'Subscription Type', 'Contract Length', 'Total Spend']\n",
    "target = 'Churn'\n",
    "\n",
    "X = df[features]\n",
    "y = df[target]\n",
    "\n",
    "# Split into train and test sets\n",
    "X_train, X_test, y_train, y_test = train_test_split(X, y, test_size=0.3, random_state=42)\n"
   ]
  },
  {
   "cell_type": "markdown",
   "id": "3ab81407",
   "metadata": {},
   "source": [
    "## Train Logistic Regression Model"
   ]
  },
  {
   "cell_type": "code",
   "execution_count": 15,
   "id": "53dc485e",
   "metadata": {},
   "outputs": [
    {
     "name": "stdout",
     "output_type": "stream",
     "text": [
      "Model Accuracy: 0.8449073724007562\n",
      "\n",
      "Classification Report:\n",
      "              precision    recall  f1-score   support\n",
      "\n",
      "           0       0.81      0.84      0.82     57160\n",
      "           1       0.88      0.85      0.86     75090\n",
      "\n",
      "    accuracy                           0.84    132250\n",
      "   macro avg       0.84      0.84      0.84    132250\n",
      "weighted avg       0.85      0.84      0.85    132250\n",
      "\n"
     ]
    }
   ],
   "source": [
    "from sklearn.metrics import accuracy_score, classification_report\n",
    "\n",
    "# Train the model\n",
    "model = LogisticRegression(max_iter=420)\n",
    "model.fit(X_train, y_train)\n",
    "\n",
    "# Make predictions\n",
    "y_pred = model.predict(X_test)\n",
    "\n",
    "# Evaluate the model\n",
    "accuracy = accuracy_score(y_test, y_pred)\n",
    "print(\"Model Accuracy:\", accuracy)\n",
    "print(\"\\nClassification Report:\")\n",
    "print(classification_report(y_test, y_pred))\n"
   ]
  },
  {
   "cell_type": "markdown",
   "id": "8a66f167",
   "metadata": {},
   "source": [
    "# Incorporating Predictive Insights\n",
    "## Predicting Churn Using the Logistic Regression Model\n",
    "The goal is to integrate the churn prediction model into the dashboard. Use Python to generate predictions and add them to the dataset for visualization."
   ]
  },
  {
   "cell_type": "code",
   "execution_count": 16,
   "id": "8f7f76c7",
   "metadata": {},
   "outputs": [],
   "source": [
    "from sklearn.model_selection import train_test_split\n",
    "from sklearn.linear_model import LogisticRegression\n",
    "from sklearn.preprocessing import LabelEncoder\n",
    "import pandas as pd\n",
    "\n",
    "# Encode categorical variables\n",
    "encoder = LabelEncoder()\n",
    "df['Gender'] = encoder.fit_transform(df['Gender'])\n",
    "df['Subscription Type'] = encoder.fit_transform(df['Subscription Type'])\n",
    "df['Contract Length'] = encoder.fit_transform(df['Contract Length'])\n",
    "df['Churn'] = encoder.fit_transform(df['Churn'])\n",
    "\n",
    "# Features and target\n",
    "features = ['Age', 'Gender', 'Tenure', 'Usage Frequency', 'Support Calls', \n",
    "            'Payment Delay', 'Subscription Type', 'Contract Length', 'Total Spend']\n",
    "target = 'Churn'\n",
    "\n",
    "X = df[features]\n",
    "y = df[target]\n",
    "\n",
    "# Split data\n",
    "X_train, X_test, y_train, y_test = train_test_split(X, y, test_size=0.3, random_state=42)\n",
    "\n",
    "# Train Logistic Regression model\n",
    "model = LogisticRegression(max_iter=420)\n",
    "model.fit(X_train, y_train)\n",
    "\n",
    "# Add predictions to the dataset\n",
    "df['Predicted Churn'] = model.predict(X)\n",
    "df['Churn Probability'] = model.predict_proba(X)[:, 1]\n"
   ]
  },
  {
   "cell_type": "code",
   "execution_count": 17,
   "id": "79780374",
   "metadata": {},
   "outputs": [],
   "source": [
    "# Save updated dataset\n",
    "df.to_csv('customer_data_with_predictions.csv', index=False)\n"
   ]
  },
  {
   "cell_type": "code",
   "execution_count": null,
   "id": "b01960d6",
   "metadata": {},
   "outputs": [],
   "source": []
  }
 ],
 "metadata": {
  "kernelspec": {
   "display_name": "Python 3 (ipykernel)",
   "language": "python",
   "name": "python3"
  },
  "language_info": {
   "codemirror_mode": {
    "name": "ipython",
    "version": 3
   },
   "file_extension": ".py",
   "mimetype": "text/x-python",
   "name": "python",
   "nbconvert_exporter": "python",
   "pygments_lexer": "ipython3",
   "version": "3.9.13"
  }
 },
 "nbformat": 4,
 "nbformat_minor": 5
}
